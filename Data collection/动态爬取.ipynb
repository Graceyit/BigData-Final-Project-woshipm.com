{
 "cells": [
  {
   "cell_type": "code",
   "execution_count": 1,
   "metadata": {},
   "outputs": [],
   "source": [
    "from selenium import webdriver\n",
    "import time\n",
    "import requests"
   ]
  },
  {
   "cell_type": "code",
   "execution_count": null,
   "metadata": {},
   "outputs": [],
   "source": [
    "def get_blockchain_page(url): #抓取内容\n",
    "    blockchains=browser.find_elements_by_class_name('postlist-item')\n",
    "    bc_info=[]\n",
    "    for one_bc in blockchains:\n",
    "        bc_data={}\n",
    "        bc_data['title']=one_bc.find_element_by_class_name('post-title').text\n",
    "        bc_data['title_href']=one_bc.find_element_by_css_selector('.postlist-item .post-title a').get_attribute('href')\n",
    "        bc_data['author']=one_bc.find_element_by_class_name('author').text\n",
    "        bc_data['date']=one_bc.find_element_by_tag_name('time').text\n",
    "        bc_data1 = one_bc.find_elements_by_class_name(\"post-meta-item\")\n",
    "        bc_data['favorite']=bc_data1[0].text\n",
    "        bc_data['thumb']=bc_data1[1].text\n",
    "        bc_info.append(bc_data)\n",
    "    return bc_info"
   ]
  },
  {
   "cell_type": "code",
   "execution_count": null,
   "metadata": {},
   "outputs": [],
   "source": [
    "import time\n",
    "url_list=[]\n",
    "browser = webdriver.Chrome()\n",
    "all_info_bc = []\n",
    "for i in range(1,18):#需抓取页数\n",
    "    time.sleep(1)\n",
    "    page_url='http://www.woshipm.com/category/blockchain/page/{number}'.format(number=i)#网页url\n",
    "    browser.get(page_url)\n",
    "    all_info_bc.extend(get_blockchain_page(page_url))"
   ]
  },
  {
   "cell_type": "code",
   "execution_count": null,
   "metadata": {},
   "outputs": [],
   "source": [
    "import pandas as pd \n",
    "df = pd.DataFrame(all_info_bc)\n",
    "df"
   ]
  },
  {
   "cell_type": "code",
   "execution_count": null,
   "metadata": {},
   "outputs": [],
   "source": [
    "df.to_csv('blockchain.csv')"
   ]
  }
 ],
 "metadata": {
  "kernelspec": {
   "display_name": "Python 3",
   "language": "python",
   "name": "python3"
  },
  "language_info": {
   "codemirror_mode": {
    "name": "ipython",
    "version": 3
   },
   "file_extension": ".py",
   "mimetype": "text/x-python",
   "name": "python",
   "nbconvert_exporter": "python",
   "pygments_lexer": "ipython3",
   "version": "3.6.5"
  }
 },
 "nbformat": 4,
 "nbformat_minor": 2
}
